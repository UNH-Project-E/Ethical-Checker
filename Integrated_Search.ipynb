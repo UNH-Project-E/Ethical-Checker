{
  "nbformat": 4,
  "nbformat_minor": 0,
  "metadata": {
    "colab": {
      "name": "Integrated_Search.ipynb",
      "provenance": []
    },
    "kernelspec": {
      "name": "python3",
      "display_name": "Python 3"
    }
  },
  "cells": [
    {
      "cell_type": "code",
      "metadata": {
        "colab": {
          "base_uri": "https://localhost:8080/"
        },
        "id": "115puRTuVAjV",
        "outputId": "5ed27e02-6660-4345-cac2-5037421392bb"
      },
      "source": [
        "!pip install PyPDF2"
      ],
      "execution_count": null,
      "outputs": [
        {
          "output_type": "stream",
          "text": [
            "Collecting PyPDF2\n",
            "\u001b[?25l  Downloading https://files.pythonhosted.org/packages/b4/01/68fcc0d43daf4c6bdbc6b33cc3f77bda531c86b174cac56ef0ffdb96faab/PyPDF2-1.26.0.tar.gz (77kB)\n",
            "\r\u001b[K     |████▎                           | 10kB 15.9MB/s eta 0:00:01\r\u001b[K     |████████▌                       | 20kB 15.0MB/s eta 0:00:01\r\u001b[K     |████████████▊                   | 30kB 9.7MB/s eta 0:00:01\r\u001b[K     |█████████████████               | 40kB 8.0MB/s eta 0:00:01\r\u001b[K     |█████████████████████▏          | 51kB 4.5MB/s eta 0:00:01\r\u001b[K     |█████████████████████████▍      | 61kB 5.1MB/s eta 0:00:01\r\u001b[K     |█████████████████████████████▋  | 71kB 5.2MB/s eta 0:00:01\r\u001b[K     |████████████████████████████████| 81kB 3.9MB/s \n",
            "\u001b[?25hBuilding wheels for collected packages: PyPDF2\n",
            "  Building wheel for PyPDF2 (setup.py) ... \u001b[?25l\u001b[?25hdone\n",
            "  Created wheel for PyPDF2: filename=PyPDF2-1.26.0-cp37-none-any.whl size=61085 sha256=5f036518e04e379dec21cd8ff1c6781e8df3f30fe25339024397fce91343db76\n",
            "  Stored in directory: /root/.cache/pip/wheels/53/84/19/35bc977c8bf5f0c23a8a011aa958acd4da4bbd7a229315c1b7\n",
            "Successfully built PyPDF2\n",
            "Installing collected packages: PyPDF2\n",
            "Successfully installed PyPDF2-1.26.0\n"
          ],
          "name": "stdout"
        }
      ]
    },
    {
      "cell_type": "code",
      "metadata": {
        "id": "ba_X7lNUVIt6"
      },
      "source": [
        "import PyPDF2"
      ],
      "execution_count": null,
      "outputs": []
    },
    {
      "cell_type": "code",
      "metadata": {
        "id": "TJNCpDYVVYuS"
      },
      "source": [
        "pdfFileObj = open('Proposal(Deep Learning).pdf', 'rb')"
      ],
      "execution_count": null,
      "outputs": []
    },
    {
      "cell_type": "code",
      "metadata": {
        "id": "j0Bi6YCmXQxb"
      },
      "source": [
        "pdfReader = PyPDF2.PdfFileReader(pdfFileObj)"
      ],
      "execution_count": null,
      "outputs": []
    },
    {
      "cell_type": "code",
      "metadata": {
        "colab": {
          "base_uri": "https://localhost:8080/"
        },
        "id": "0bacEFjPXTvf",
        "outputId": "37f4f16f-91b2-4f44-b093-d9aa1737835d"
      },
      "source": [
        "print(pdfReader.numPages)"
      ],
      "execution_count": null,
      "outputs": [
        {
          "output_type": "stream",
          "text": [
            "1\n"
          ],
          "name": "stdout"
        }
      ]
    },
    {
      "cell_type": "code",
      "metadata": {
        "id": "yw0jrsRxXVeO"
      },
      "source": [
        "pageObj = pdfReader.getPage(0)"
      ],
      "execution_count": null,
      "outputs": []
    },
    {
      "cell_type": "code",
      "metadata": {
        "id": "4KlqCV6fXX-d"
      },
      "source": [
        "a = pageObj.extractText()"
      ],
      "execution_count": null,
      "outputs": []
    },
    {
      "cell_type": "code",
      "metadata": {
        "colab": {
          "base_uri": "https://localhost:8080/"
        },
        "id": "5zX790YPXYk7",
        "outputId": "e2e31e74-3640-4a04-e72c-d3c04de603c0"
      },
      "source": [
        "import re\n",
        "#print(\"The original list : \" + str(a)) \n",
        "  \n",
        "# Removing newline character from string \n",
        "# Using regex \n",
        "res = [] \n",
        "for sub in a: \n",
        "    res.append(re.sub('\\n', '', sub)) \n",
        "          \n",
        "res"
      ],
      "execution_count": null,
      "outputs": [
        {
          "output_type": "execute_result",
          "data": {
            "text/plain": [
              "['S',\n",
              " 'p',\n",
              " 'o',\n",
              " 'r',\n",
              " 't',\n",
              " 's',\n",
              " ' ',\n",
              " 'I',\n",
              " 'm',\n",
              " 'a',\n",
              " 'g',\n",
              " 'e',\n",
              " ' ',\n",
              " 'C',\n",
              " 'l',\n",
              " 'a',\n",
              " 's',\n",
              " 's',\n",
              " 'i',\n",
              " 'f',\n",
              " 'i',\n",
              " 'c',\n",
              " 'a',\n",
              " 't',\n",
              " 'i',\n",
              " 'o',\n",
              " 'n',\n",
              " ' ',\n",
              " 'P',\n",
              " 'r',\n",
              " 'e',\n",
              " 'p',\n",
              " 'a',\n",
              " 'r',\n",
              " 'e',\n",
              " 'd',\n",
              " ' ',\n",
              " 'f',\n",
              " 'o',\n",
              " 'r',\n",
              " ' ',\n",
              " ':',\n",
              " ' ',\n",
              " 'K',\n",
              " 'e',\n",
              " 'i',\n",
              " 't',\n",
              " 'h',\n",
              " ' ',\n",
              " 'D',\n",
              " 'i',\n",
              " 'l',\n",
              " 'l',\n",
              " 'o',\n",
              " 'n',\n",
              " ',',\n",
              " ' ',\n",
              " 'D',\n",
              " 'r',\n",
              " '',\n",
              " ' ',\n",
              " 'P',\n",
              " 'r',\n",
              " 'e',\n",
              " 'p',\n",
              " 'a',\n",
              " 'r',\n",
              " 'e',\n",
              " 'd',\n",
              " ' ',\n",
              " 'b',\n",
              " 'y',\n",
              " ':',\n",
              " ' ',\n",
              " ' ',\n",
              " 'Z',\n",
              " 'e',\n",
              " 'e',\n",
              " 's',\n",
              " 'h',\n",
              " 'a',\n",
              " 'n',\n",
              " ' ',\n",
              " 'A',\n",
              " 'h',\n",
              " 'm',\n",
              " 'e',\n",
              " 'd',\n",
              " ' ',\n",
              " 'L',\n",
              " 'o',\n",
              " 'd',\n",
              " 'h',\n",
              " 'i',\n",
              " 'a',\n",
              " ',',\n",
              " ' ',\n",
              " '',\n",
              " ' ',\n",
              " 'N',\n",
              " 'o',\n",
              " 'v',\n",
              " 'e',\n",
              " 'm',\n",
              " 'b',\n",
              " 'e',\n",
              " 'r',\n",
              " ' ',\n",
              " '2',\n",
              " '6',\n",
              " ',',\n",
              " ' ',\n",
              " '2',\n",
              " '0',\n",
              " '1',\n",
              " '9',\n",
              " ' ',\n",
              " 'P',\n",
              " 'e',\n",
              " 'r',\n",
              " 'f',\n",
              " 'o',\n",
              " 'r',\n",
              " 'm',\n",
              " 'i',\n",
              " 'n',\n",
              " 'g',\n",
              " ' ',\n",
              " 'a',\n",
              " ' ',\n",
              " 'c',\n",
              " 'l',\n",
              " 'a',\n",
              " 's',\n",
              " 's',\n",
              " 'i',\n",
              " '',\n",
              " 'Þ',\n",
              " 'c',\n",
              " 'a',\n",
              " 't',\n",
              " 'i',\n",
              " 'o',\n",
              " 'n',\n",
              " ' ',\n",
              " 't',\n",
              " 'a',\n",
              " 's',\n",
              " 'k',\n",
              " ' ',\n",
              " 'b',\n",
              " 'a',\n",
              " 's',\n",
              " 'e',\n",
              " 'd',\n",
              " ' ',\n",
              " 'o',\n",
              " 'n',\n",
              " ' ',\n",
              " 't',\n",
              " 'h',\n",
              " 'e',\n",
              " ' ',\n",
              " 'b',\n",
              " 'a',\n",
              " 's',\n",
              " 'i',\n",
              " 's',\n",
              " ' ',\n",
              " 'o',\n",
              " 'f',\n",
              " ' ',\n",
              " 't',\n",
              " 'h',\n",
              " 'e',\n",
              " ' ',\n",
              " 'i',\n",
              " 'm',\n",
              " 'a',\n",
              " 'g',\n",
              " 'e',\n",
              " 's',\n",
              " ' ',\n",
              " 'i',\n",
              " 'n',\n",
              " ' ',\n",
              " 'a',\n",
              " ' ',\n",
              " 'd',\n",
              " 'a',\n",
              " 't',\n",
              " 'a',\n",
              " 's',\n",
              " 'e',\n",
              " 't',\n",
              " '.',\n",
              " ' ',\n",
              " 'T',\n",
              " 'h',\n",
              " 'e',\n",
              " ' ',\n",
              " 'i',\n",
              " 'm',\n",
              " 'a',\n",
              " 'g',\n",
              " 'e',\n",
              " 's',\n",
              " ',',\n",
              " ' ',\n",
              " 'a',\n",
              " 'r',\n",
              " 'e',\n",
              " ' ',\n",
              " 'i',\n",
              " 'n',\n",
              " ' ',\n",
              " 'i',\n",
              " 't',\n",
              " 's',\n",
              " ' ',\n",
              " 'r',\n",
              " 'e',\n",
              " 's',\n",
              " 'p',\n",
              " 'e',\n",
              " 'c',\n",
              " 't',\n",
              " 'i',\n",
              " 'v',\n",
              " 'e',\n",
              " ' ',\n",
              " '',\n",
              " 'f',\n",
              " 'o',\n",
              " 'l',\n",
              " 'd',\n",
              " 'e',\n",
              " 'r',\n",
              " ',',\n",
              " ' ',\n",
              " 'f',\n",
              " 'o',\n",
              " 'r',\n",
              " ' ',\n",
              " 'e',\n",
              " 'x',\n",
              " 'a',\n",
              " 'm',\n",
              " 'p',\n",
              " 'l',\n",
              " 'e',\n",
              " ' ',\n",
              " 't',\n",
              " 'h',\n",
              " 'e',\n",
              " ' ',\n",
              " 'b',\n",
              " 'a',\n",
              " 's',\n",
              " 'e',\n",
              " 'b',\n",
              " 'a',\n",
              " 'l',\n",
              " 'l',\n",
              " ' ',\n",
              " 'f',\n",
              " 'o',\n",
              " 'l',\n",
              " 'd',\n",
              " 'e',\n",
              " 'r',\n",
              " ' ',\n",
              " 'w',\n",
              " 'i',\n",
              " 'l',\n",
              " 'l',\n",
              " ' ',\n",
              " 'c',\n",
              " 'o',\n",
              " 'n',\n",
              " 't',\n",
              " 'a',\n",
              " 'i',\n",
              " 'n',\n",
              " ' ',\n",
              " 'b',\n",
              " 'a',\n",
              " 's',\n",
              " 'e',\n",
              " 'b',\n",
              " 'a',\n",
              " 'l',\n",
              " 'l',\n",
              " ' ',\n",
              " 'i',\n",
              " 'm',\n",
              " 'a',\n",
              " 'g',\n",
              " 'e',\n",
              " 's',\n",
              " ',',\n",
              " ' ',\n",
              " 'a',\n",
              " 'n',\n",
              " 'd',\n",
              " ' ',\n",
              " 'o',\n",
              " 't',\n",
              " 'h',\n",
              " 'e',\n",
              " 'r',\n",
              " ' ',\n",
              " 'r',\n",
              " 'e',\n",
              " 's',\n",
              " 'p',\n",
              " 'e',\n",
              " 'c',\n",
              " 't',\n",
              " 'i',\n",
              " 'v',\n",
              " 'e',\n",
              " ' ',\n",
              " 'f',\n",
              " 'o',\n",
              " 'l',\n",
              " 'd',\n",
              " 'e',\n",
              " 'r',\n",
              " ' ',\n",
              " 'w',\n",
              " 'i',\n",
              " 'l',\n",
              " 'l',\n",
              " ' ',\n",
              " 'c',\n",
              " 'o',\n",
              " 'n',\n",
              " 't',\n",
              " 'a',\n",
              " 'i',\n",
              " 'n',\n",
              " ' ',\n",
              " 'i',\n",
              " 't',\n",
              " 's',\n",
              " ' ',\n",
              " '',\n",
              " 'r',\n",
              " 'e',\n",
              " 's',\n",
              " 'p',\n",
              " 'e',\n",
              " 'c',\n",
              " 't',\n",
              " 'i',\n",
              " 'v',\n",
              " 'e',\n",
              " ' ',\n",
              " 'i',\n",
              " 'm',\n",
              " 'a',\n",
              " 'g',\n",
              " 'e',\n",
              " 's',\n",
              " '.',\n",
              " ' ',\n",
              " 'T',\n",
              " 'h',\n",
              " 'e',\n",
              " ' ',\n",
              " 'd',\n",
              " 'a',\n",
              " 't',\n",
              " 'a',\n",
              " 's',\n",
              " 'e',\n",
              " 't',\n",
              " ' ',\n",
              " 'c',\n",
              " 'o',\n",
              " 'n',\n",
              " 't',\n",
              " 'a',\n",
              " 'i',\n",
              " 'n',\n",
              " 's',\n",
              " ' ',\n",
              " '2',\n",
              " '0',\n",
              " ' ',\n",
              " 'f',\n",
              " 'o',\n",
              " 'l',\n",
              " 'd',\n",
              " 'e',\n",
              " 'r',\n",
              " 's',\n",
              " ' ',\n",
              " 'a',\n",
              " 'n',\n",
              " 'd',\n",
              " ' ',\n",
              " 'h',\n",
              " 'e',\n",
              " 'n',\n",
              " 'c',\n",
              " 'e',\n",
              " ' ',\n",
              " 'w',\n",
              " 'i',\n",
              " 'l',\n",
              " 'l',\n",
              " ' ',\n",
              " 't',\n",
              " 'r',\n",
              " 'y',\n",
              " ' ',\n",
              " 't',\n",
              " 'o',\n",
              " ' ',\n",
              " 'c',\n",
              " 'r',\n",
              " 'e',\n",
              " 'a',\n",
              " 't',\n",
              " 'e',\n",
              " ' ',\n",
              " '2',\n",
              " '0',\n",
              " ' ',\n",
              " 'l',\n",
              " 'a',\n",
              " 'b',\n",
              " 'e',\n",
              " 'l',\n",
              " 's',\n",
              " '(',\n",
              " 'Y',\n",
              " ')',\n",
              " ' ',\n",
              " '.',\n",
              " ' ',\n",
              " 'T',\n",
              " 'h',\n",
              " 'e',\n",
              " ' ',\n",
              " 'l',\n",
              " 'i',\n",
              " 'n',\n",
              " 'k',\n",
              " ' ',\n",
              " 't',\n",
              " 'o',\n",
              " ' ',\n",
              " 't',\n",
              " 'h',\n",
              " 'e',\n",
              " ' ',\n",
              " '',\n",
              " 'd',\n",
              " 'a',\n",
              " 't',\n",
              " 'a',\n",
              " 's',\n",
              " 'e',\n",
              " 't',\n",
              " ' ',\n",
              " 'i',\n",
              " 's',\n",
              " ' ',\n",
              " '',\n",
              " 'h',\n",
              " 't',\n",
              " 't',\n",
              " 'p',\n",
              " 's',\n",
              " ':',\n",
              " '/',\n",
              " '/',\n",
              " 'w',\n",
              " 'w',\n",
              " 'w',\n",
              " '.',\n",
              " 'k',\n",
              " 'a',\n",
              " 'g',\n",
              " 'g',\n",
              " 'l',\n",
              " 'e',\n",
              " '.',\n",
              " 'c',\n",
              " 'o',\n",
              " 'm',\n",
              " '/',\n",
              " 'a',\n",
              " 'm',\n",
              " 'i',\n",
              " 'r',\n",
              " '2',\n",
              " '2',\n",
              " '0',\n",
              " '1',\n",
              " '0',\n",
              " '/',\n",
              " 's',\n",
              " 'p',\n",
              " 'o',\n",
              " 'r',\n",
              " 't',\n",
              " 's',\n",
              " 'i',\n",
              " 'm',\n",
              " 'a',\n",
              " 'g',\n",
              " 'e',\n",
              " 's',\n",
              " '',\n",
              " ',',\n",
              " ' ',\n",
              " 'i',\n",
              " 'n',\n",
              " ' ',\n",
              " 'o',\n",
              " 'r',\n",
              " 'd',\n",
              " 'e',\n",
              " 'r',\n",
              " ' ',\n",
              " 'f',\n",
              " 'o',\n",
              " 'r',\n",
              " ' ',\n",
              " 't',\n",
              " 'r',\n",
              " 'a',\n",
              " 'i',\n",
              " 'n',\n",
              " 'i',\n",
              " 'n',\n",
              " 'g',\n",
              " ' ',\n",
              " 'a',\n",
              " 'n',\n",
              " 'd',\n",
              " ' ',\n",
              " 't',\n",
              " 'e',\n",
              " 's',\n",
              " 't',\n",
              " 'i',\n",
              " 'n',\n",
              " 'g',\n",
              " ' ',\n",
              " 'w',\n",
              " 'e',\n",
              " ' ',\n",
              " 'w',\n",
              " 'i',\n",
              " 'l',\n",
              " 'l',\n",
              " ' ',\n",
              " 't',\n",
              " 'r',\n",
              " 'y',\n",
              " ' ',\n",
              " 't',\n",
              " 'o',\n",
              " ' ',\n",
              " 's',\n",
              " 'p',\n",
              " 'l',\n",
              " 'i',\n",
              " 't',\n",
              " ' ',\n",
              " 't',\n",
              " 'h',\n",
              " 'e',\n",
              " ' ',\n",
              " '',\n",
              " 'd',\n",
              " 'a',\n",
              " 't',\n",
              " 'a',\n",
              " 's',\n",
              " 'e',\n",
              " 't',\n",
              " '.',\n",
              " ' ',\n",
              " 'T',\n",
              " 'h',\n",
              " 'e',\n",
              " ' ',\n",
              " 'd',\n",
              " 'a',\n",
              " 't',\n",
              " 'a',\n",
              " 's',\n",
              " 'e',\n",
              " 't',\n",
              " ' ',\n",
              " 'c',\n",
              " 'o',\n",
              " 'n',\n",
              " 't',\n",
              " 'a',\n",
              " 'i',\n",
              " 'n',\n",
              " 's',\n",
              " ' ',\n",
              " 'a',\n",
              " 'p',\n",
              " 'p',\n",
              " 'r',\n",
              " 'o',\n",
              " 'x',\n",
              " 'i',\n",
              " 'm',\n",
              " 'a',\n",
              " 't',\n",
              " 'e',\n",
              " 'l',\n",
              " 'y',\n",
              " ' ',\n",
              " '1',\n",
              " '2',\n",
              " ',',\n",
              " '5',\n",
              " '0',\n",
              " '0',\n",
              " ' ',\n",
              " 'i',\n",
              " 'm',\n",
              " 'a',\n",
              " 'g',\n",
              " 'e',\n",
              " 's',\n",
              " ',',\n",
              " ' ',\n",
              " 't',\n",
              " 'h',\n",
              " 'e',\n",
              " ' ',\n",
              " 'p',\n",
              " 'i',\n",
              " 'x',\n",
              " 'e',\n",
              " 'l',\n",
              " 's',\n",
              " ' ',\n",
              " 'a',\n",
              " 'r',\n",
              " 'e',\n",
              " ' ',\n",
              " '5',\n",
              " '0',\n",
              " '0',\n",
              " ' ',\n",
              " '*',\n",
              " '2',\n",
              " '8',\n",
              " '1',\n",
              " '.',\n",
              " ' ',\n",
              " 'G',\n",
              " 'o',\n",
              " 't',\n",
              " ' ',\n",
              " 't',\n",
              " 'h',\n",
              " 'e',\n",
              " ' ',\n",
              " 'd',\n",
              " 'a',\n",
              " 't',\n",
              " 'a',\n",
              " 's',\n",
              " 'e',\n",
              " 't',\n",
              " ' ',\n",
              " 'f',\n",
              " 'r',\n",
              " 'o',\n",
              " 'm',\n",
              " ' ',\n",
              " '',\n",
              " 'K',\n",
              " 'a',\n",
              " 'g',\n",
              " 'g',\n",
              " 'l',\n",
              " 'e',\n",
              " '.',\n",
              " ' ',\n",
              " 'T',\n",
              " 'h',\n",
              " 'e',\n",
              " ' ',\n",
              " 'm',\n",
              " 'o',\n",
              " 't',\n",
              " 'i',\n",
              " 'v',\n",
              " 'a',\n",
              " 't',\n",
              " 'i',\n",
              " 'o',\n",
              " 'n',\n",
              " ' ',\n",
              " 'w',\n",
              " 'a',\n",
              " 's',\n",
              " ' ',\n",
              " 't',\n",
              " 'a',\n",
              " 'k',\n",
              " 'e',\n",
              " 'n',\n",
              " ' ',\n",
              " 'b',\n",
              " 'y',\n",
              " ' ',\n",
              " 'm',\n",
              " 'e',\n",
              " ' ',\n",
              " 'o',\n",
              " 'n',\n",
              " ' ',\n",
              " 't',\n",
              " 'h',\n",
              " 'e',\n",
              " ' ',\n",
              " 'b',\n",
              " 'a',\n",
              " 's',\n",
              " 'i',\n",
              " 's',\n",
              " ' ',\n",
              " 'o',\n",
              " 'f',\n",
              " ' ',\n",
              " 't',\n",
              " 'h',\n",
              " 'e',\n",
              " ' ',\n",
              " 'p',\n",
              " 'a',\n",
              " 'p',\n",
              " 'e',\n",
              " 'r',\n",
              " ' ',\n",
              " 'w',\n",
              " 'h',\n",
              " 'i',\n",
              " 'c',\n",
              " 'h',\n",
              " ' ',\n",
              " 'i',\n",
              " 's',\n",
              " ' ',\n",
              " 'i',\n",
              " 'n',\n",
              " ' ',\n",
              " '',\n",
              " 'h',\n",
              " 't',\n",
              " 't',\n",
              " 'p',\n",
              " ':',\n",
              " '/',\n",
              " '/',\n",
              " 'p',\n",
              " 'a',\n",
              " 'p',\n",
              " 'e',\n",
              " 'r',\n",
              " 's',\n",
              " '.',\n",
              " 'n',\n",
              " 'i',\n",
              " 'p',\n",
              " 's',\n",
              " '.',\n",
              " 'c',\n",
              " 'c',\n",
              " '/',\n",
              " 'p',\n",
              " 'a',\n",
              " 'p',\n",
              " 'e',\n",
              " 'r',\n",
              " '/',\n",
              " '4',\n",
              " '8',\n",
              " '2',\n",
              " '4',\n",
              " '-',\n",
              " 'i',\n",
              " 'm',\n",
              " 'a',\n",
              " 'g',\n",
              " 'e',\n",
              " 'n',\n",
              " 'e',\n",
              " 't',\n",
              " '-',\n",
              " 'c',\n",
              " 'l',\n",
              " 'a',\n",
              " 's',\n",
              " 's',\n",
              " 'i',\n",
              " 'Þ',\n",
              " 'c',\n",
              " 'a',\n",
              " 't',\n",
              " 'i',\n",
              " 'o',\n",
              " 'n',\n",
              " '-',\n",
              " 'w',\n",
              " 'i',\n",
              " 't',\n",
              " 'h',\n",
              " '-',\n",
              " 'd',\n",
              " 'e',\n",
              " 'e',\n",
              " 'p',\n",
              " '-',\n",
              " 'c',\n",
              " 'o',\n",
              " 'n',\n",
              " 'v',\n",
              " 'o',\n",
              " 'l',\n",
              " 'u',\n",
              " 't',\n",
              " 'i',\n",
              " 'o',\n",
              " 'n',\n",
              " 'a',\n",
              " 'l',\n",
              " '-',\n",
              " 'n',\n",
              " 'e',\n",
              " 'u',\n",
              " 'r',\n",
              " 'a',\n",
              " 'l',\n",
              " '-',\n",
              " 'n',\n",
              " 'e',\n",
              " 't',\n",
              " 'w',\n",
              " 'o',\n",
              " 'r',\n",
              " 'k',\n",
              " 's',\n",
              " '.',\n",
              " 'p',\n",
              " 'd',\n",
              " 'f',\n",
              " ' ',\n",
              " ',',\n",
              " ' ',\n",
              " 'i',\n",
              " 't',\n",
              " 'Õ',\n",
              " 's',\n",
              " ' ',\n",
              " 'u',\n",
              " 's',\n",
              " 'e',\n",
              " 's',\n",
              " ' ',\n",
              " 'd',\n",
              " 'e',\n",
              " 'e',\n",
              " 'p',\n",
              " ' ',\n",
              " 'l',\n",
              " 'e',\n",
              " 'a',\n",
              " 'r',\n",
              " 'n',\n",
              " 'i',\n",
              " 'n',\n",
              " 'g',\n",
              " ' ',\n",
              " 'm',\n",
              " 'e',\n",
              " 't',\n",
              " 'h',\n",
              " 'o',\n",
              " 'd',\n",
              " 's',\n",
              " ',',\n",
              " ' ',\n",
              " 'a',\n",
              " 'n',\n",
              " 'd',\n",
              " ' ',\n",
              " '',\n",
              " 'c',\n",
              " 'l',\n",
              " 'a',\n",
              " 's',\n",
              " 's',\n",
              " 'i',\n",
              " 'Þ',\n",
              " 'c',\n",
              " 'a',\n",
              " 't',\n",
              " 'i',\n",
              " 'o',\n",
              " 'n',\n",
              " ' ',\n",
              " 't',\n",
              " 'e',\n",
              " 'c',\n",
              " 'h',\n",
              " 'n',\n",
              " 'i',\n",
              " 'q',\n",
              " 'u',\n",
              " 'e',\n",
              " 's',\n",
              " ' ',\n",
              " 'o',\n",
              " 'n',\n",
              " ' ',\n",
              " 'I',\n",
              " 'm',\n",
              " 'a',\n",
              " 'g',\n",
              " 'e',\n",
              " 'n',\n",
              " 'e',\n",
              " 't',\n",
              " ' ',\n",
              " 'd',\n",
              " 'a',\n",
              " 't',\n",
              " 'a',\n",
              " 's',\n",
              " 'e',\n",
              " 't',\n",
              " 's',\n",
              " '.',\n",
              " ' ',\n",
              " '',\n",
              " 'h',\n",
              " 't',\n",
              " 't',\n",
              " 'p',\n",
              " ':',\n",
              " '/',\n",
              " '/',\n",
              " 'i',\n",
              " 'm',\n",
              " 's',\n",
              " 'l',\n",
              " 'a',\n",
              " 'b',\n",
              " '.',\n",
              " 'o',\n",
              " 'r',\n",
              " 'g',\n",
              " '/',\n",
              " 'm',\n",
              " 'c',\n",
              " 'm',\n",
              " 'l',\n",
              " '2',\n",
              " '0',\n",
              " '1',\n",
              " '2',\n",
              " '/',\n",
              " 'd',\n",
              " 'a',\n",
              " 't',\n",
              " 'a',\n",
              " '/',\n",
              " 'p',\n",
              " 'a',\n",
              " 'p',\n",
              " 'e',\n",
              " 'r',\n",
              " '/',\n",
              " 'G',\n",
              " 'r',\n",
              " 'o',\n",
              " 'u',\n",
              " 'p',\n",
              " '3',\n",
              " '_',\n",
              " 'I',\n",
              " 'm',\n",
              " 'a',\n",
              " ...]"
            ]
          },
          "metadata": {
            "tags": []
          },
          "execution_count": 40
        }
      ]
    },
    {
      "cell_type": "code",
      "metadata": {
        "id": "Cmpll7NVKMV1"
      },
      "source": [
        "def convert(s): \n",
        "  \n",
        "    # initialization of string to \"\" \n",
        "    new = \"\" \n",
        "  \n",
        "    # traverse in the string  \n",
        "    for x in s: \n",
        "        new += x  \n",
        "  \n",
        "    # return string  \n",
        "    return new "
      ],
      "execution_count": null,
      "outputs": []
    },
    {
      "cell_type": "code",
      "metadata": {
        "colab": {
          "base_uri": "https://localhost:8080/",
          "height": 174
        },
        "id": "s9pubORMKTkY",
        "outputId": "3571d54e-ee8c-4026-a93c-d618a2f6bbc5"
      },
      "source": [
        "b = convert(res)\n",
        "b"
      ],
      "execution_count": null,
      "outputs": [
        {
          "output_type": "execute_result",
          "data": {
            "application/vnd.google.colaboratory.intrinsic+json": {
              "type": "string"
            },
            "text/plain": [
              "'Sports Image Classification Prepared for : Keith Dillon, Dr Prepared by:  Zeeshan Ahmed Lodhia,  November 26, 2019 Performing a classiÞcation task based on the basis of the images in a dataset. The images, are in its respective folder, for example the baseball folder will contain baseball images, and other respective folder will contain its respective images. The dataset contains 20 folders and hence will try to create 20 labels(Y) . The link to the dataset is https://www.kaggle.com/amir22010/sportsimages, in order for training and testing we will try to split the dataset. The dataset contains approximately 12,500 images, the pixels are 500 *281. Got the dataset from Kaggle. The motivation was taken by me on the basis of the paper which is in http://papers.nips.cc/paper/4824-imagenet-classiÞcation-with-deep-convolutional-neural-networks.pdf , itÕs uses deep learning methods, and classiÞcation techniques on Imagenet datasets. http://imslab.org/mcml2012/data/paper/Group3_Image%20ClassiÞcation%20using%20Support%20Vector%20Machine%20and%20ArtiÞcial%20Neural%20Network.pdf in this paper they try to combine artiÞcial neural network and support vector machines and try to classify image.UNIVERSITY OF NEW HAVEN'"
            ]
          },
          "metadata": {
            "tags": []
          },
          "execution_count": 43
        }
      ]
    },
    {
      "cell_type": "code",
      "metadata": {
        "id": "b7x8gSqVXxqG"
      },
      "source": [
        "sentences =list(b.split(\".\"))"
      ],
      "execution_count": null,
      "outputs": []
    },
    {
      "cell_type": "code",
      "metadata": {
        "colab": {
          "base_uri": "https://localhost:8080/"
        },
        "id": "DCJF2UbhY5cB",
        "outputId": "59965f4b-2917-4a71-da2c-12703bd2f311"
      },
      "source": [
        "sentences"
      ],
      "execution_count": null,
      "outputs": [
        {
          "output_type": "execute_result",
          "data": {
            "text/plain": [
              "['Sports Image Classification Prepared for : Keith Dillon, Dr Prepared by:  Zeeshan Ahmed Lodhia,  November 26, 2019 Performing a classiÞcation task based on the basis of the images in a dataset',\n",
              " ' The images, are in its respective folder, for example the baseball folder will contain baseball images, and other respective folder will contain its respective images',\n",
              " ' The dataset contains 20 folders and hence will try to create 20 labels(Y) ',\n",
              " ' The link to the dataset is https://www',\n",
              " 'kaggle',\n",
              " 'com/amir22010/sportsimages, in order for training and testing we will try to split the dataset',\n",
              " ' The dataset contains approximately 12,500 images, the pixels are 500 *281',\n",
              " ' Got the dataset from Kaggle',\n",
              " ' The motivation was taken by me on the basis of the paper which is in http://papers',\n",
              " 'nips',\n",
              " 'cc/paper/4824-imagenet-classiÞcation-with-deep-convolutional-neural-networks',\n",
              " 'pdf , itÕs uses deep learning methods, and classiÞcation techniques on Imagenet datasets',\n",
              " ' http://imslab',\n",
              " 'org/mcml2012/data/paper/Group3_Image%20ClassiÞcation%20using%20Support%20Vector%20Machine%20and%20ArtiÞcial%20Neural%20Network',\n",
              " 'pdf in this paper they try to combine artiÞcial neural network and support vector machines and try to classify image',\n",
              " 'UNIVERSITY OF NEW HAVEN']"
            ]
          },
          "metadata": {
            "tags": []
          },
          "execution_count": 45
        }
      ]
    },
    {
      "cell_type": "code",
      "metadata": {
        "colab": {
          "base_uri": "https://localhost:8080/",
          "height": 37
        },
        "id": "s0rczvwUY8b0",
        "outputId": "c34fbebc-0a3d-4ff4-c6ee-0cf0d3a17eec"
      },
      "source": [
        "sentences[2]"
      ],
      "execution_count": null,
      "outputs": [
        {
          "output_type": "execute_result",
          "data": {
            "application/vnd.google.colaboratory.intrinsic+json": {
              "type": "string"
            },
            "text/plain": [
              "' The dataset contains 20 folders and hence will try to create 20 labels(Y) '"
            ]
          },
          "metadata": {
            "tags": []
          },
          "execution_count": 47
        }
      ]
    },
    {
      "cell_type": "code",
      "metadata": {
        "id": "KXTWz1cLZF1b"
      },
      "source": [
        "query_list = ['The greatest glory in living lies not in never falling, but in rising every time we fall.','The way to get started is to quit talking and begin doing','If life were predictable it would cease to be life, and be without flavor']\n"
      ],
      "execution_count": null,
      "outputs": []
    },
    {
      "cell_type": "code",
      "metadata": {
        "colab": {
          "base_uri": "https://localhost:8080/",
          "height": 37
        },
        "id": "wizl2BvUfVzH",
        "outputId": "ab57e2a7-6c89-4f9d-c5ec-624e5e5b81b1"
      },
      "source": [
        "query_list[0]"
      ],
      "execution_count": null,
      "outputs": [
        {
          "output_type": "execute_result",
          "data": {
            "application/vnd.google.colaboratory.intrinsic+json": {
              "type": "string"
            },
            "text/plain": [
              "'The greatest glory in living lies not in never falling, but in rising every time we fall.'"
            ]
          },
          "metadata": {
            "tags": []
          },
          "execution_count": 49
        }
      ]
    },
    {
      "cell_type": "code",
      "metadata": {
        "colab": {
          "base_uri": "https://localhost:8080/"
        },
        "id": "ktjyeI1BfWeo",
        "outputId": "face3809-a084-4f9d-d469-fcd345755e00"
      },
      "source": [
        "for i in range(0,len(query_list)):\n",
        "  print(query_list[i])\n"
      ],
      "execution_count": null,
      "outputs": [
        {
          "output_type": "stream",
          "text": [
            "The greatest glory in living lies not in never falling, but in rising every time we fall.\n",
            "The way to get started is to quit talking and begin doing\n",
            "If life were predictable it would cease to be life, and be without flavor\n"
          ],
          "name": "stdout"
        }
      ]
    },
    {
      "cell_type": "code",
      "metadata": {
        "id": "rowzBcL9ffRz"
      },
      "source": [
        "import requests\n",
        "\n",
        "params = {\n",
        "  'access_key': '9ade43111d6e6af367648176a34b8bb3',\n",
        "  'query': query_list[2]\n",
        "}\n",
        "\n",
        "api_result = requests.get('http://api.serpstack.com/search', params)\n",
        "    \n",
        "\n",
        "api_response = api_result.json()\n",
        "\n",
        "#print (\"Total results: \", api_response['search_information']['total_results'])\n",
        "\n",
        "#for number, result in enumerate(api_response['organic_results'], start=1):\n",
        "#    print (\"%s. %s\" % (number, result['title']))"
      ],
      "execution_count": null,
      "outputs": []
    },
    {
      "cell_type": "code",
      "metadata": {
        "colab": {
          "base_uri": "https://localhost:8080/",
          "height": 1000
        },
        "id": "dIm-ltvOlRBF",
        "outputId": "52fe0a19-aca0-408f-ac93-9538363b334b"
      },
      "source": [
        "import json\n",
        "type(api_response)\n",
        "hello = list(api_response.items())\n",
        "#hello = api_response.keys[0]\n",
        "hello\n",
        "import pandas as pd\n",
        "test = hello[3][1]\n",
        "df = pd.DataFrame(test)\n",
        "df"
      ],
      "execution_count": null,
      "outputs": [
        {
          "output_type": "execute_result",
          "data": {
            "text/html": [
              "<div>\n",
              "<style scoped>\n",
              "    .dataframe tbody tr th:only-of-type {\n",
              "        vertical-align: middle;\n",
              "    }\n",
              "\n",
              "    .dataframe tbody tr th {\n",
              "        vertical-align: top;\n",
              "    }\n",
              "\n",
              "    .dataframe thead th {\n",
              "        text-align: right;\n",
              "    }\n",
              "</style>\n",
              "<table border=\"1\" class=\"dataframe\">\n",
              "  <thead>\n",
              "    <tr style=\"text-align: right;\">\n",
              "      <th></th>\n",
              "      <th>position</th>\n",
              "      <th>title</th>\n",
              "      <th>snippet</th>\n",
              "      <th>prerender</th>\n",
              "      <th>cached_page_url</th>\n",
              "      <th>related_pages_url</th>\n",
              "      <th>url</th>\n",
              "      <th>domain</th>\n",
              "      <th>displayed_url</th>\n",
              "    </tr>\n",
              "  </thead>\n",
              "  <tbody>\n",
              "    <tr>\n",
              "      <th>0</th>\n",
              "      <td>1</td>\n",
              "      <td>Eleanor Roosevelt - If life were predictable i...</td>\n",
              "      <td>Eleanor Roosevelt Quotes If life were predicta...</td>\n",
              "      <td>False</td>\n",
              "      <td>{}</td>\n",
              "      <td>{}</td>\n",
              "      <td>https://www.brainyquote.com/quotes/eleanor_roo...</td>\n",
              "      <td>www.brainyquote.com</td>\n",
              "      <td>http://www.brainyquote.com › ... › Eleanor Roo...</td>\n",
              "    </tr>\n",
              "    <tr>\n",
              "      <th>1</th>\n",
              "      <td>2</td>\n",
              "      <td>What did Eleanor Roosevelt mean by 'If life we...</td>\n",
              "      <td>If life was predictable,it would take all the ...</td>\n",
              "      <td>False</td>\n",
              "      <td>{}</td>\n",
              "      <td>{}</td>\n",
              "      <td>https://www.quora.com/What-did-Eleanor-Rooseve...</td>\n",
              "      <td>www.quora.com</td>\n",
              "      <td>http://www.quora.com › What-did-Eleanor-Roosev...</td>\n",
              "    </tr>\n",
              "    <tr>\n",
              "      <th>2</th>\n",
              "      <td>3</td>\n",
              "      <td>“If life were predictable it would cease to be...</td>\n",
              "      <td>Jan 12, 2021 — “If life were predictable it wo...</td>\n",
              "      <td>False</td>\n",
              "      <td>{}</td>\n",
              "      <td>{}</td>\n",
              "      <td>https://medium.com/productivity-in-dark-days/i...</td>\n",
              "      <td>medium.com</td>\n",
              "      <td>http://medium.com › productivity-in-dark-days ...</td>\n",
              "    </tr>\n",
              "    <tr>\n",
              "      <th>3</th>\n",
              "      <td>4</td>\n",
              "      <td>Eleanor Roosevelt once said, “If life were pre...</td>\n",
              "      <td>Eleanor Roosevelt once said, “If life were pre...</td>\n",
              "      <td>False</td>\n",
              "      <td>{}</td>\n",
              "      <td>{}</td>\n",
              "      <td>https://medium.com/@dalmaciokate/eleanor-roose...</td>\n",
              "      <td>medium.com</td>\n",
              "      <td>http://medium.com › eleanor-roosevelt-onc...</td>\n",
              "    </tr>\n",
              "    <tr>\n",
              "      <th>4</th>\n",
              "      <td>5</td>\n",
              "      <td>Quote by Eleanor Roosevelt: “If life were pred...</td>\n",
              "      <td>Eleanor Roosevelt — 'If life were predictable ...</td>\n",
              "      <td>False</td>\n",
              "      <td>{}</td>\n",
              "      <td>{}</td>\n",
              "      <td>https://www.goodreads.com/quotes/729431-if-lif...</td>\n",
              "      <td>www.goodreads.com</td>\n",
              "      <td>http://www.goodreads.com › quotes › 729431-if-...</td>\n",
              "    </tr>\n",
              "    <tr>\n",
              "      <th>5</th>\n",
              "      <td>6</td>\n",
              "      <td>11 Beautiful Quotes from Eleanor Roosevelt to ...</td>\n",
              "      <td>5. “If life were predictable, it would cease t...</td>\n",
              "      <td>False</td>\n",
              "      <td>{}</td>\n",
              "      <td>{}</td>\n",
              "      <td>http://epiclifevibes.com/11-beautiful-quotes-f...</td>\n",
              "      <td>epiclifevibes.com</td>\n",
              "      <td>http://epiclifevibes.com › 11-beautiful-quotes...</td>\n",
              "    </tr>\n",
              "    <tr>\n",
              "      <th>6</th>\n",
              "      <td>7</td>\n",
              "      <td>If life were predictable it would cease to be ...</td>\n",
              "      <td>If life were predictable it would cease to be ...</td>\n",
              "      <td>False</td>\n",
              "      <td>{}</td>\n",
              "      <td>{}</td>\n",
              "      <td>https://www.pinterest.com/pin/705657835342829723/</td>\n",
              "      <td>www.pinterest.com</td>\n",
              "      <td>http://www.pinterest.com › pin</td>\n",
              "    </tr>\n",
              "    <tr>\n",
              "      <th>7</th>\n",
              "      <td>8</td>\n",
              "      <td>If life were predictable it would cease to be ...</td>\n",
              "      <td>Pinterest · Today · Explore. Log in. Sign up. ...</td>\n",
              "      <td>False</td>\n",
              "      <td>{}</td>\n",
              "      <td>{}</td>\n",
              "      <td>https://www.pinterest.ca/pin/705657835346981277/</td>\n",
              "      <td>www.pinterest.ca</td>\n",
              "      <td>http://www.pinterest.ca › pin</td>\n",
              "    </tr>\n",
              "    <tr>\n",
              "      <th>8</th>\n",
              "      <td>9</td>\n",
              "      <td>If life were predictable it would cease to be ...</td>\n",
              "      <td>If life were predictable it would cease to be ...</td>\n",
              "      <td>False</td>\n",
              "      <td>{}</td>\n",
              "      <td>{}</td>\n",
              "      <td>https://internetpoem.com/eleanor-roosevelt/quo...</td>\n",
              "      <td>internetpoem.com</td>\n",
              "      <td>http://internetpoem.com › Eleanor Roosevelt</td>\n",
              "    </tr>\n",
              "    <tr>\n",
              "      <th>9</th>\n",
              "      <td>10</td>\n",
              "      <td>If life were predictable it would cease to be ...</td>\n",
              "      <td>Eleanor Roosevelt once said If life were predi...</td>\n",
              "      <td>False</td>\n",
              "      <td>{}</td>\n",
              "      <td>{}</td>\n",
              "      <td>https://meaningin.com/quotes/eleanor-roosevelt...</td>\n",
              "      <td>meaningin.com</td>\n",
              "      <td>http://meaningin.com › Quotes › eleanor roosevelt</td>\n",
              "    </tr>\n",
              "    <tr>\n",
              "      <th>10</th>\n",
              "      <td>11</td>\n",
              "      <td>If life were predictable it would cease to... ...</td>\n",
              "      <td>Eleanor Roosevelt Quote - If life were predict...</td>\n",
              "      <td>False</td>\n",
              "      <td>{}</td>\n",
              "      <td>{}</td>\n",
              "      <td>https://allauthor.com/quotes/48098/</td>\n",
              "      <td>allauthor.com</td>\n",
              "      <td>http://allauthor.com › Eleanor Roosevelt Quote...</td>\n",
              "    </tr>\n",
              "    <tr>\n",
              "      <th>11</th>\n",
              "      <td>12</td>\n",
              "      <td>If life were predictable it would cease t ... ...</td>\n",
              "      <td>If life were predictable it would cease to be ...</td>\n",
              "      <td>False</td>\n",
              "      <td>{}</td>\n",
              "      <td>{}</td>\n",
              "      <td>https://www.amazon.com/life-were-predictable-w...</td>\n",
              "      <td>www.amazon.com</td>\n",
              "      <td>http://www.amazon.com › life-were-predictable-...</td>\n",
              "    </tr>\n",
              "    <tr>\n",
              "      <th>12</th>\n",
              "      <td>13</td>\n",
              "      <td>Eleanor Roosevelt quote : If life were predict...</td>\n",
              "      <td>Jun 21, 2020 — Eleanor Roosevelt - If life wer...</td>\n",
              "      <td>False</td>\n",
              "      <td>{}</td>\n",
              "      <td>{}</td>\n",
              "      <td>https://quotecites.com/quotes/eleanor-roosevel...</td>\n",
              "      <td>quotecites.com</td>\n",
              "      <td>http://quotecites.com › Quote › Life</td>\n",
              "    </tr>\n",
              "    <tr>\n",
              "      <th>13</th>\n",
              "      <td>14</td>\n",
              "      <td>If life were predictable it would cease to be ...</td>\n",
              "      <td>If life were predictable it would cease to be ...</td>\n",
              "      <td>False</td>\n",
              "      <td>{}</td>\n",
              "      <td>{}</td>\n",
              "      <td>https://steemit.com/quotes/@sudershan/if-life-...</td>\n",
              "      <td>steemit.com</td>\n",
              "      <td>http://steemit.com › quotes › if-life-were-pre...</td>\n",
              "    </tr>\n",
              "    <tr>\n",
              "      <th>14</th>\n",
              "      <td>15</td>\n",
              "      <td>If life were predictable it would cease to be ...</td>\n",
              "      <td>Mar 25, 2019 - If life were predictable it wou...</td>\n",
              "      <td>False</td>\n",
              "      <td>{}</td>\n",
              "      <td>{}</td>\n",
              "      <td>https://www.pinterest.de/pin/70565783534282972...</td>\n",
              "      <td>www.pinterest.de</td>\n",
              "      <td>http://www.pinterest.de › pin</td>\n",
              "    </tr>\n",
              "    <tr>\n",
              "      <th>15</th>\n",
              "      <td>16</td>\n",
              "      <td>“If life were predictable it would cease to be...</td>\n",
              "      <td>Mar 7, 2019 — “If life were predictable it wou...</td>\n",
              "      <td>False</td>\n",
              "      <td>{}</td>\n",
              "      <td>{}</td>\n",
              "      <td>https://thewowladyirmala.wordpress.com/2019/03...</td>\n",
              "      <td>thewowladyirmala.wordpress.com</td>\n",
              "      <td>http://thewowladyirmala.wordpress.com › 2019/0...</td>\n",
              "    </tr>\n",
              "    <tr>\n",
              "      <th>16</th>\n",
              "      <td>17</td>\n",
              "      <td>If life were predictable it would cease to be ...</td>\n",
              "      <td>If life were predictable it would cease to be ...</td>\n",
              "      <td>False</td>\n",
              "      <td>{}</td>\n",
              "      <td>{}</td>\n",
              "      <td>https://www.quotespedia.org/authors/e/eleanor-...</td>\n",
              "      <td>www.quotespedia.org</td>\n",
              "      <td>http://www.quotespedia.org › authors › eleanor...</td>\n",
              "    </tr>\n",
              "    <tr>\n",
              "      <th>17</th>\n",
              "      <td>18</td>\n",
              "      <td>Eleanor Roosevelt quote: If life were predicta...</td>\n",
              "      <td>If life were predictable it would cease to be ...</td>\n",
              "      <td>False</td>\n",
              "      <td>{}</td>\n",
              "      <td>{}</td>\n",
              "      <td>https://www.azquotes.com/quote/250834</td>\n",
              "      <td>www.azquotes.com</td>\n",
              "      <td>http://www.azquotes.com › Authors › E › Eleano...</td>\n",
              "    </tr>\n",
              "    <tr>\n",
              "      <th>18</th>\n",
              "      <td>19</td>\n",
              "      <td>Eleanor Roosevelt Quote: “If life were predict...</td>\n",
              "      <td>Eleanor Roosevelt Quote: “If life were predict...</td>\n",
              "      <td>False</td>\n",
              "      <td>{}</td>\n",
              "      <td>{}</td>\n",
              "      <td>https://quotefancy.com/quote/799891/Eleanor-Ro...</td>\n",
              "      <td>quotefancy.com</td>\n",
              "      <td>http://quotefancy.com › quote › Eleanor-Roosev...</td>\n",
              "    </tr>\n",
              "  </tbody>\n",
              "</table>\n",
              "</div>"
            ],
            "text/plain": [
              "    position  ...                                      displayed_url\n",
              "0          1  ...  http://www.brainyquote.com › ... › Eleanor Roo...\n",
              "1          2  ...  http://www.quora.com › What-did-Eleanor-Roosev...\n",
              "2          3  ...  http://medium.com › productivity-in-dark-days ...\n",
              "3          4  ...       http://medium.com › eleanor-roosevelt-onc...\n",
              "4          5  ...  http://www.goodreads.com › quotes › 729431-if-...\n",
              "5          6  ...  http://epiclifevibes.com › 11-beautiful-quotes...\n",
              "6          7  ...                     http://www.pinterest.com › pin\n",
              "7          8  ...                      http://www.pinterest.ca › pin\n",
              "8          9  ...        http://internetpoem.com › Eleanor Roosevelt\n",
              "9         10  ...  http://meaningin.com › Quotes › eleanor roosevelt\n",
              "10        11  ...  http://allauthor.com › Eleanor Roosevelt Quote...\n",
              "11        12  ...  http://www.amazon.com › life-were-predictable-...\n",
              "12        13  ...               http://quotecites.com › Quote › Life\n",
              "13        14  ...  http://steemit.com › quotes › if-life-were-pre...\n",
              "14        15  ...                      http://www.pinterest.de › pin\n",
              "15        16  ...  http://thewowladyirmala.wordpress.com › 2019/0...\n",
              "16        17  ...  http://www.quotespedia.org › authors › eleanor...\n",
              "17        18  ...  http://www.azquotes.com › Authors › E › Eleano...\n",
              "18        19  ...  http://quotefancy.com › quote › Eleanor-Roosev...\n",
              "\n",
              "[19 rows x 9 columns]"
            ]
          },
          "metadata": {
            "tags": []
          },
          "execution_count": 97
        }
      ]
    },
    {
      "cell_type": "code",
      "metadata": {
        "colab": {
          "base_uri": "https://localhost:8080/",
          "height": 37
        },
        "id": "-lM1kDV3iOiG",
        "outputId": "32b658e9-e8b5-44da-cb4a-a05b2fa0d086"
      },
      "source": [
        "df['url'][0]"
      ],
      "execution_count": null,
      "outputs": [
        {
          "output_type": "execute_result",
          "data": {
            "application/vnd.google.colaboratory.intrinsic+json": {
              "type": "string"
            },
            "text/plain": [
              "'https://www.brainyquote.com/quotes/eleanor_roosevelt_384413'"
            ]
          },
          "metadata": {
            "tags": []
          },
          "execution_count": 105
        }
      ]
    },
    {
      "cell_type": "code",
      "metadata": {
        "colab": {
          "base_uri": "https://localhost:8080/"
        },
        "id": "lEbKVXlKo4xn",
        "outputId": "652df4e0-003c-44ee-9077-7cf5ce646727"
      },
      "source": [
        "type(api_response)"
      ],
      "execution_count": null,
      "outputs": [
        {
          "output_type": "execute_result",
          "data": {
            "text/plain": [
              "dict"
            ]
          },
          "metadata": {
            "tags": []
          },
          "execution_count": 98
        }
      ]
    },
    {
      "cell_type": "code",
      "metadata": {
        "colab": {
          "base_uri": "https://localhost:8080/",
          "height": 37
        },
        "id": "Mgnd4wPQpOk0",
        "outputId": "56ac7c58-364a-4524-89ae-ff1caec421c2"
      },
      "source": [
        "list(api_response.keys())[1]"
      ],
      "execution_count": null,
      "outputs": [
        {
          "output_type": "execute_result",
          "data": {
            "application/vnd.google.colaboratory.intrinsic+json": {
              "type": "string"
            },
            "text/plain": [
              "'search_parameters'"
            ]
          },
          "metadata": {
            "tags": []
          },
          "execution_count": 99
        }
      ]
    },
    {
      "cell_type": "code",
      "metadata": {
        "id": "9ePUEHx7lYd8"
      },
      "source": [
        "import pandas as pd"
      ],
      "execution_count": null,
      "outputs": []
    },
    {
      "cell_type": "code",
      "metadata": {
        "colab": {
          "base_uri": "https://localhost:8080/"
        },
        "id": "r0rQgsNkl_6q",
        "outputId": "40c532cd-0160-4c8f-a23d-dee2e667b16c"
      },
      "source": [
        "type(api_response)"
      ],
      "execution_count": null,
      "outputs": [
        {
          "output_type": "execute_result",
          "data": {
            "text/plain": [
              "dict"
            ]
          },
          "metadata": {
            "tags": []
          },
          "execution_count": 29
        }
      ]
    },
    {
      "cell_type": "code",
      "metadata": {
        "id": "roCf1UD0h3EQ",
        "colab": {
          "base_uri": "https://localhost:8080/"
        },
        "outputId": "42e35592-5cb9-4062-ce47-e00d43ad45e0"
      },
      "source": [
        "!pip install docx2txt"
      ],
      "execution_count": null,
      "outputs": [
        {
          "output_type": "stream",
          "text": [
            "Collecting docx2txt\n",
            "  Downloading https://files.pythonhosted.org/packages/7d/7d/60ee3f2b16d9bfdfa72e8599470a2c1a5b759cb113c6fe1006be28359327/docx2txt-0.8.tar.gz\n",
            "Building wheels for collected packages: docx2txt\n",
            "  Building wheel for docx2txt (setup.py) ... \u001b[?25l\u001b[?25hdone\n",
            "  Created wheel for docx2txt: filename=docx2txt-0.8-cp37-none-any.whl size=3963 sha256=6d613c2a18d5870b1955f30861d8afc7a8d7b869c433b981dba0ec05fcc5265e\n",
            "  Stored in directory: /root/.cache/pip/wheels/b2/1f/26/a051209bbb77fc6bcfae2bb7e01fa0ff941b82292ab084d596\n",
            "Successfully built docx2txt\n",
            "Installing collected packages: docx2txt\n",
            "Successfully installed docx2txt-0.8\n"
          ],
          "name": "stdout"
        }
      ]
    },
    {
      "cell_type": "code",
      "metadata": {
        "id": "PksKtcRNx220"
      },
      "source": [
        "import docx2txt\n",
        "result = docx2txt.process(\"Fall2019_Syllabus_ELEC4500_advEngrMath.docx\")"
      ],
      "execution_count": null,
      "outputs": []
    },
    {
      "cell_type": "code",
      "metadata": {
        "colab": {
          "base_uri": "https://localhost:8080/",
          "height": 174
        },
        "id": "vYuojCeUzgkU",
        "outputId": "ea501026-ea8f-4c70-a16a-d8cdab2d473b"
      },
      "source": [
        "result"
      ],
      "execution_count": null,
      "outputs": [
        {
          "output_type": "execute_result",
          "data": {
            "application/vnd.google.colaboratory.intrinsic+json": {
              "type": "string"
            },
            "text/plain": [
              "\"ECECS\\n\\nTagliatela college of engineering\\n\\nECECS\\n\\nTagliatela college of engineering\\n\\n\\n\\nELEC 4500-01/ DSCI 6601:\\n\\nAdvanced Engineering Math\\n\\nFall 2019\\n\\nBKMN 219: M, W 10:50 am – 12:05 pm\\n\\nCredit Hours: 3\\n\\nFaculty Contact Information:\\n\\nDr. Mohsen Sarraf\\n\\nOffice Location 1132 Campbell Ave. Room 3209; West Haven, CT 06516\\n\\nPhone: 203-932-1261 (office)\\n\\nEmail: msarraf@newhaven.edu\\n\\nOffice Hours: M, W 2 pm to 5 pm;\\n\\nT, R 2 pm to 4 pm\\n\\nOther times by appointment \\n\\n\\n\\nCOURSE SYLLABUS\\n\\n\\n\\nCourse Description: \\n\\nPrerequisite: Calculus I, II, III and Ordinary Differential Equations, or equivalents.\\n\\n\\n\\nReview and introduction of partial differential equations, complex algebra and linear algebra.\\n\\n\\n\\nhttp://catalog.newhaven.edu/index.php?catoid=20\\n\\n\\n\\nExtended Course Description: \\n\\nBy the end of the course, students should be familiar with:\\n\\nPartial Differential Equations (PDE) including certain standard PDEs\\n\\nGradient, Divergence and Curl\\n\\nComplex numbers and functions\\n\\nComplex differentiation\\n\\nComplex integration\\n\\nPower series, Taylor series\\n\\nLinear Algebra\\n\\nMatrices and vectors, matrix transpose, multiplications, etc.\\n\\nMatrix determinants and inverses, solution of Ax = b systems\\n\\nEigenvalues and eigenvectors\\n\\nSingular Value Decompostion (SVD) and other techniques time permitting\\n\\n\\n\\nRequired Text(s):\\n\\n“Advanced Engineering Mathematics” by Erwin Keyszing, 10th edition.\\n\\n\\n\\n\\n\\nOther: \\n\\nThere are many good, readable references out there.\\n\\n\\n\\nCourse Structure/Course Format/Course Objectives: \\n\\nLectures; Open Q&A as lectures proceed.\\n\\n\\n\\nCourse Objectives:\\n\\nTo review and/or present valuable mathematical techniques necessary for more advanced engineering and data science subjects.\\n\\nStudent Learning Outcomes:\\n\\nKnowledge of required PDE subjects for more advanced engineering courses, e.g., electromagnetics, electrical machines, optimization techniques, etc.\\n\\nKnowledge of required complex algebra subjects for more advanced engineering courses, e.g., digital communication and digital signal processing systems, etc.\\n\\nKnowledge of required linear algebra subjects for more advanced engineering and data science courses, e.g., random processes, communication systems, data science, data compression, etc.\\n\\nCourse Requirements & Assessment:\\n\\nLayout (subject to change):\\n\\nWhen needed, homework assignments for preparation mainly review of as much material related to the subjects covered in the week\\n\\nSemi-random in-class quizzes\\n\\nOne midterm (in class)\\n\\nFinal (in class)\\n\\n\\n\\nGraduate Grading System \\n\\n\\n\\nAssignments/Projects (specify requirements and format)\\n\\n\\n\\nExaminations: Three tests, one for each general subject (PDE, Complex Algebra, Linear Algebra)\\n\\n\\n\\nParticipation: Quizzez\\n\\n\\n\\nGrading:\\n\\nThis course meets for two 80 minute lecture periods per week. Lectures are recorded using the Tegrity system. Tegrity allows you to review and listen to my lecture at a later date.  Tegrity recordings as well as this course syllabus, quiz and exam keys and grades can all be found on the Blackboard site for this course.\\n\\n\\n\\nGrades earned are based on your performance on homework, quizzes, exams and the final exam. \\n\\n\\n\\nTest 1\\n\\n25%\\n\\nTest 2\\n\\n25%\\n\\nTest 3\\n\\n25%\\n\\nQuizzes\\n\\n25%\\n\\nTotal**\\n\\n100%\\n\\n\\n\\nNo Incompletes will be given for the course unless under university rules and with extenuating circumstances. \\n\\nNo extra credit assignments will be given for the course.\\n\\n\\n\\n\\n\\n**Final Grades are assigned with the following scale: \\n\\nThe total grades will be curved and the final grades will be assigned accordingly.\\n\\n\\n\\nExpectations:\\n\\nNone\\n\\nAcademic Calendar\\n\\n\\nCourse Outline/Schedule:\\n\\n\\n\\nThe lectures will proceed according to students’ progress. All required subjects will be covered.\\n\\n\\n\\n\\n\\n\\n\\nUNIVERSITY POLICIES\\n\\n\\n\\nAcademic Regulations Undergraduate\\n\\nAcademic Regulations Graduate\\n\\n\\n\\nAdding and Dropping Classes\\n\\nTuesday, September 3, 2019 is the final day to drop this course so that it does not appear on your transcript. After the first week of class, self-service registration will not be enabled for students to directly add or drop classes. Students should contact the registrar’s office directly or the Academic Success Center for assistance with adding and dropping courses during this time.\\n\\n\\n\\nAttendance Regulations \\n\\nStudents are expected to attend regularly and promptly all their classes, appointments, and exercises. The instructor has the right to dismiss from class any student who has been absent more than two weeks\\xa0(pro-rated for terms different from that of the semester). A dismissed student will receive a withdrawal (W) from the course if they are\\xa0still eligible for a withdrawal per the university “Withdrawal from a Course” policy, or a failure (F) if not.\\n\\nA student who is not officially registered in the course is not permitted to attend classes or take part in any other course activities.\\n\\nStudents absent from any class meeting are responsible for making up missed assignments and examinations at the discretion of the instructor.\\n\\nIf an instructor is more than 15 minutes late for a class meeting, without providing notification to the students, the students may leave without penalty.\\n\\nAdditional attendance guidelines:\\n\\n<Optional: Additional attendance guidelines for this course.> \\n\\n\\n\\nReligious Observance Policy for Students\\n\\nThe University of New Haven respects the right of its students to observe religious holidays that may necessitate their absence from class or from other required university-sponsored activities.\\n\\nStudents who wish to observe such holidays should not be penalized for their absence, although in academic courses they are responsible for making up missed work.\\n\\nNote: instructors should try to avoid scheduling exams or quizzes on religious holidays, but where such conflicts occur should provide reasonable accommodations for missed assignment deadlines or exams. If a class, an assignment due date, or exam interferes with the observance of such a religious holiday, it is the student’s responsibility to notify his or her instructor, preferably at the beginning of the term, but otherwise at least two weeks before the holiday.\\n\\n\\n\\n\\n\\nCourse Withdrawal Policy \\n\\nStudents wishing to withdraw from a course MUST officially do so by completing the online  form or by submitting a course withdrawal form to the registrar’s office. The final date to request a withdrawal for this term is Tuesday October 29, 2019. This request must be submitted to the Office of the University Registrar (and signed by the International Services Office if you are an international student). The grade of W will be recorded, but the course will not affect the GPA. \\n\\n\\n\\nIncomplete:\\n\\nA grade of Incomplete (INC) is given only in special circumstances and indicates that the student has been given permission by the instructor to complete required course work (with the same instructor) after the end of the term. In the absence of the instructor a student should contact the Department Chair. \\n\\n\\n\\nAcademic Integrity Policy:\\n\\nThe University of New Haven expects its students to maintain the highest standards of academic conduct. Academic dishonesty is not tolerated at the University. To know what it is expected of them, students are responsible for reading and understanding the statement regarding academic honesty in the Student Handbook.  Please ask me about my expectations regarding permissible or encouraged forms of student collaboration if there is any confusion about this topic. \\n\\n\\n\\nThe Dean of Students Office provides support and advocacy for students. \\n\\n\\n\\nCommitment to Positive Learning Environment: \\n\\nThe University adheres to the philosophy that all community members should enjoy an environment free of any form of harassment, sexual misconduct, discrimination, or intimate partner violence. If you have been the victim of sexual misconduct, we encourage you to report this. If you report this to a faculty/staff member, they must notify our college's Title IX coordinator about the basic facts of the incident (you may choose to request confidentiality from the University). If you encounter sexual harassment, sexual misconduct, sexual assault, or discrimination based on race, color, religion, age, national origin, ancestry, sex, sexual orientation, gender identity, or disability please contact the Title IX Coordinator, Caroline Koziatek, at (203) 932.7479 or ckoziatek@newhaven.edu.   Separate title 9 from other forms of discrimination\\n\\nTitle IX at the University of New Haven\\n\\n\\n\\n\\n\\nReporting Bias Incidents\\n\\nAt the University of New Haven, there is an expectation that all community members are committed to creating and supporting a climate which promotes civility, mutual respect, and open-mindedness. There also exists an understanding that with the freedom of expression comes the responsibility to support community members’ right to live and work in an environment free from harassment and fear. It is expected that all members of the University community will engage in anti-bias behavior and refrain from actions that intimidate, humiliate, or demean persons or groups or that undermine their security or self-esteem. \\n\\nReporting Options\\n\\n\\n\\n\\n\\n\\nUniversity Support Services\\n\\n\\n\\nThe University recognizes that students can often use some help outside of class and offers academic assistance through several offices.  \\n\\n\\n\\nCenter for Student Success:\\n\\nThe Academic Success Center provides a wide range of academic support to day and evening undergraduate students beyond their first year of college. \\n\\n\\n\\nCenter for Learning Resources (CLR): \\n\\nThe Center for Learning Resources (CLR), located in the Peterson Library, provides academic content support to the students of the University of New Haven using metacognitive strategies that help students become aware of and learn to apply optimal learning processes in the pursuit of creating independent learners CLR tutors focus sessions on discussions of concepts and processes and typically use external examples to help students grasp and apply the material.\\n\\n\\n\\nWriting Center\\n\\nWriter to Writer is a peer-tutoring program inspired by the belief that all writers struggle and can benefit from talking through their ideas. Tutors are undergraduate students trained to work with you at any stage in the writing process. \\n\\n\\n\\nAccessibility Resources Center: \\n\\nStudents with disabilities are encouraged to share, in confidence, information about needed specific course accommodations.  The Accessibility Resources Center, located in Sheffield Hall, is responsible for and committed to providing services and support that serve to promote educational equity and ensure that students are able to participate in the opportunities available at the University of New Haven. Accommodations cannot be made without written documentation from the Accessibility Resources Center.\\n\\n\\n\\nCounseling & Psychological Services:\\n\\nThe Counseling Center offers a variety of services aimed at helping students resolve personal difficulties and acquire the balance, skills, and knowledge that will enable them to take full advantage of their experience at the University of New Haven.\\n\\n\\n\\n\\n\\n\\n\\n\\n\\n\\n\\n\\n\\n\\n\\n\\n\\n<Optional Signature Page>\\n\\n\\n\\n\\n\\n6\""
            ]
          },
          "metadata": {
            "tags": []
          },
          "execution_count": 7
        }
      ]
    },
    {
      "cell_type": "code",
      "metadata": {
        "id": "qgZ_ArPw0Rwm",
        "colab": {
          "base_uri": "https://localhost:8080/"
        },
        "outputId": "7b4b30e2-7b69-4db1-bfa1-2c89a65ba074"
      },
      "source": [
        "df['url']"
      ],
      "execution_count": null,
      "outputs": [
        {
          "output_type": "execute_result",
          "data": {
            "text/plain": [
              "0     https://www.brainyquote.com/quotes/eleanor_roo...\n",
              "1     https://www.quora.com/What-did-Eleanor-Rooseve...\n",
              "2     https://medium.com/productivity-in-dark-days/i...\n",
              "3     https://medium.com/@dalmaciokate/eleanor-roose...\n",
              "4     https://www.goodreads.com/quotes/729431-if-lif...\n",
              "5     http://epiclifevibes.com/11-beautiful-quotes-f...\n",
              "6     https://www.pinterest.com/pin/705657835342829723/\n",
              "7      https://www.pinterest.ca/pin/705657835346981277/\n",
              "8     https://internetpoem.com/eleanor-roosevelt/quo...\n",
              "9     https://meaningin.com/quotes/eleanor-roosevelt...\n",
              "10                  https://allauthor.com/quotes/48098/\n",
              "11    https://www.amazon.com/life-were-predictable-w...\n",
              "12    https://quotecites.com/quotes/eleanor-roosevel...\n",
              "13    https://steemit.com/quotes/@sudershan/if-life-...\n",
              "14    https://www.pinterest.de/pin/70565783534282972...\n",
              "15    https://thewowladyirmala.wordpress.com/2019/03...\n",
              "16    https://www.quotespedia.org/authors/e/eleanor-...\n",
              "17                https://www.azquotes.com/quote/250834\n",
              "18    https://quotefancy.com/quote/799891/Eleanor-Ro...\n",
              "Name: url, dtype: object"
            ]
          },
          "metadata": {
            "tags": []
          },
          "execution_count": 101
        }
      ]
    },
    {
      "cell_type": "code",
      "metadata": {
        "colab": {
          "base_uri": "https://localhost:8080/"
        },
        "id": "ODy-XdxHi5Vd",
        "outputId": "c71564be-3857-4066-d28f-b24671fb164f"
      },
      "source": [
        "len(df)"
      ],
      "execution_count": null,
      "outputs": [
        {
          "output_type": "execute_result",
          "data": {
            "text/plain": [
              "19"
            ]
          },
          "metadata": {
            "tags": []
          },
          "execution_count": 113
        }
      ]
    },
    {
      "cell_type": "code",
      "metadata": {
        "colab": {
          "base_uri": "https://localhost:8080/"
        },
        "id": "i_9oKyD-hLQc",
        "outputId": "8d130edf-4b34-4465-fa26-e7aef84dc54a"
      },
      "source": [
        "pip install newspaper3k"
      ],
      "execution_count": null,
      "outputs": [
        {
          "output_type": "stream",
          "text": [
            "Collecting newspaper3k\n",
            "\u001b[?25l  Downloading https://files.pythonhosted.org/packages/d7/b9/51afecb35bb61b188a4b44868001de348a0e8134b4dfa00ffc191567c4b9/newspaper3k-0.2.8-py3-none-any.whl (211kB)\n",
            "\r\u001b[K     |█▌                              | 10kB 15.1MB/s eta 0:00:01\r\u001b[K     |███                             | 20kB 10.5MB/s eta 0:00:01\r\u001b[K     |████▋                           | 30kB 8.0MB/s eta 0:00:01\r\u001b[K     |██████▏                         | 40kB 7.3MB/s eta 0:00:01\r\u001b[K     |███████▊                        | 51kB 4.3MB/s eta 0:00:01\r\u001b[K     |█████████▎                      | 61kB 4.8MB/s eta 0:00:01\r\u001b[K     |██████████▉                     | 71kB 5.1MB/s eta 0:00:01\r\u001b[K     |████████████▍                   | 81kB 5.4MB/s eta 0:00:01\r\u001b[K     |██████████████                  | 92kB 5.8MB/s eta 0:00:01\r\u001b[K     |███████████████▌                | 102kB 5.4MB/s eta 0:00:01\r\u001b[K     |█████████████████               | 112kB 5.4MB/s eta 0:00:01\r\u001b[K     |██████████████████▋             | 122kB 5.4MB/s eta 0:00:01\r\u001b[K     |████████████████████▏           | 133kB 5.4MB/s eta 0:00:01\r\u001b[K     |█████████████████████▊          | 143kB 5.4MB/s eta 0:00:01\r\u001b[K     |███████████████████████▎        | 153kB 5.4MB/s eta 0:00:01\r\u001b[K     |████████████████████████▉       | 163kB 5.4MB/s eta 0:00:01\r\u001b[K     |██████████████████████████▍     | 174kB 5.4MB/s eta 0:00:01\r\u001b[K     |████████████████████████████    | 184kB 5.4MB/s eta 0:00:01\r\u001b[K     |█████████████████████████████▌  | 194kB 5.4MB/s eta 0:00:01\r\u001b[K     |███████████████████████████████ | 204kB 5.4MB/s eta 0:00:01\r\u001b[K     |████████████████████████████████| 215kB 5.4MB/s \n",
            "\u001b[?25hRequirement already satisfied: python-dateutil>=2.5.3 in /usr/local/lib/python3.7/dist-packages (from newspaper3k) (2.8.1)\n",
            "Requirement already satisfied: Pillow>=3.3.0 in /usr/local/lib/python3.7/dist-packages (from newspaper3k) (7.0.0)\n",
            "Collecting tldextract>=2.0.1\n",
            "\u001b[?25l  Downloading https://files.pythonhosted.org/packages/7e/62/b6acd3129c5615b9860e670df07fd55b76175b63e6b7f68282c7cad38e9e/tldextract-3.1.0-py2.py3-none-any.whl (87kB)\n",
            "\u001b[K     |████████████████████████████████| 92kB 4.1MB/s \n",
            "\u001b[?25hCollecting cssselect>=0.9.2\n",
            "  Downloading https://files.pythonhosted.org/packages/3b/d4/3b5c17f00cce85b9a1e6f91096e1cc8e8ede2e1be8e96b87ce1ed09e92c5/cssselect-1.1.0-py2.py3-none-any.whl\n",
            "Collecting feedfinder2>=0.0.4\n",
            "  Downloading https://files.pythonhosted.org/packages/35/82/1251fefec3bb4b03fd966c7e7f7a41c9fc2bb00d823a34c13f847fd61406/feedfinder2-0.0.4.tar.gz\n",
            "Requirement already satisfied: lxml>=3.6.0 in /usr/local/lib/python3.7/dist-packages (from newspaper3k) (4.2.6)\n",
            "Requirement already satisfied: PyYAML>=3.11 in /usr/local/lib/python3.7/dist-packages (from newspaper3k) (3.13)\n",
            "Requirement already satisfied: requests>=2.10.0 in /usr/local/lib/python3.7/dist-packages (from newspaper3k) (2.23.0)\n",
            "Requirement already satisfied: beautifulsoup4>=4.4.1 in /usr/local/lib/python3.7/dist-packages (from newspaper3k) (4.6.3)\n",
            "Requirement already satisfied: nltk>=3.2.1 in /usr/local/lib/python3.7/dist-packages (from newspaper3k) (3.2.5)\n",
            "Collecting feedparser>=5.2.1\n",
            "\u001b[?25l  Downloading https://files.pythonhosted.org/packages/1c/21/faf1bac028662cc8adb2b5ef7a6f3999a765baa2835331df365289b0ca56/feedparser-6.0.2-py3-none-any.whl (80kB)\n",
            "\u001b[K     |████████████████████████████████| 81kB 4.8MB/s \n",
            "\u001b[?25hCollecting jieba3k>=0.35.1\n",
            "\u001b[?25l  Downloading https://files.pythonhosted.org/packages/a9/cb/2c8332bcdc14d33b0bedd18ae0a4981a069c3513e445120da3c3f23a8aaa/jieba3k-0.35.1.zip (7.4MB)\n",
            "\u001b[K     |████████████████████████████████| 7.4MB 7.4MB/s \n",
            "\u001b[?25hCollecting tinysegmenter==0.3\n",
            "  Downloading https://files.pythonhosted.org/packages/17/82/86982e4b6d16e4febc79c2a1d68ee3b707e8a020c5d2bc4af8052d0f136a/tinysegmenter-0.3.tar.gz\n",
            "Requirement already satisfied: six>=1.5 in /usr/local/lib/python3.7/dist-packages (from python-dateutil>=2.5.3->newspaper3k) (1.15.0)\n",
            "Requirement already satisfied: idna in /usr/local/lib/python3.7/dist-packages (from tldextract>=2.0.1->newspaper3k) (2.10)\n",
            "Requirement already satisfied: filelock>=3.0.8 in /usr/local/lib/python3.7/dist-packages (from tldextract>=2.0.1->newspaper3k) (3.0.12)\n",
            "Collecting requests-file>=1.4\n",
            "  Downloading https://files.pythonhosted.org/packages/77/86/cdb5e8eaed90796aa83a6d9f75cfbd37af553c47a291cd47bc410ef9bdb2/requests_file-1.5.1-py2.py3-none-any.whl\n",
            "Requirement already satisfied: chardet<4,>=3.0.2 in /usr/local/lib/python3.7/dist-packages (from requests>=2.10.0->newspaper3k) (3.0.4)\n",
            "Requirement already satisfied: urllib3!=1.25.0,!=1.25.1,<1.26,>=1.21.1 in /usr/local/lib/python3.7/dist-packages (from requests>=2.10.0->newspaper3k) (1.24.3)\n",
            "Requirement already satisfied: certifi>=2017.4.17 in /usr/local/lib/python3.7/dist-packages (from requests>=2.10.0->newspaper3k) (2020.12.5)\n",
            "Collecting sgmllib3k\n",
            "  Downloading https://files.pythonhosted.org/packages/9e/bd/3704a8c3e0942d711c1299ebf7b9091930adae6675d7c8f476a7ce48653c/sgmllib3k-1.0.0.tar.gz\n",
            "Building wheels for collected packages: feedfinder2, jieba3k, tinysegmenter, sgmllib3k\n",
            "  Building wheel for feedfinder2 (setup.py) ... \u001b[?25l\u001b[?25hdone\n",
            "  Created wheel for feedfinder2: filename=feedfinder2-0.0.4-cp37-none-any.whl size=3358 sha256=31ac6391411c4723365f4a86dee8bc65947b11751de745ec6e211dc27ce67bbf\n",
            "  Stored in directory: /root/.cache/pip/wheels/de/03/ca/778e3a7a627e3d98836cc890e7cb40c7575424cfd3340f40ed\n",
            "  Building wheel for jieba3k (setup.py) ... \u001b[?25l\u001b[?25hdone\n",
            "  Created wheel for jieba3k: filename=jieba3k-0.35.1-cp37-none-any.whl size=7398406 sha256=a8406965e981e3f72c1ea7e1b254bbfac30a43ec087f92ceb8a5c877b453b08c\n",
            "  Stored in directory: /root/.cache/pip/wheels/83/15/9c/a3f1f67e7f7181170ad37d32e503c35da20627c013f438ed34\n",
            "  Building wheel for tinysegmenter (setup.py) ... \u001b[?25l\u001b[?25hdone\n",
            "  Created wheel for tinysegmenter: filename=tinysegmenter-0.3-cp37-none-any.whl size=13538 sha256=d7c0d8bb2d21004eb58e4069ce1245275393badc87ad68ce5ae708e966b78edd\n",
            "  Stored in directory: /root/.cache/pip/wheels/81/2b/43/a02ede72324dd40cdd7ca53aad718c7710628e91b8b0dc0f02\n",
            "  Building wheel for sgmllib3k (setup.py) ... \u001b[?25l\u001b[?25hdone\n",
            "  Created wheel for sgmllib3k: filename=sgmllib3k-1.0.0-cp37-none-any.whl size=6067 sha256=60582bb870e4e9f95d614187ea3307267ee536b16961efbedd6daaede66bba0c\n",
            "  Stored in directory: /root/.cache/pip/wheels/f1/80/5a/444ba08a550cdd241bd9baf8bae44be750efe370adb944506a\n",
            "Successfully built feedfinder2 jieba3k tinysegmenter sgmllib3k\n",
            "Installing collected packages: requests-file, tldextract, cssselect, feedfinder2, sgmllib3k, feedparser, jieba3k, tinysegmenter, newspaper3k\n",
            "Successfully installed cssselect-1.1.0 feedfinder2-0.0.4 feedparser-6.0.2 jieba3k-0.35.1 newspaper3k-0.2.8 requests-file-1.5.1 sgmllib3k-1.0.0 tinysegmenter-0.3 tldextract-3.1.0\n"
          ],
          "name": "stdout"
        }
      ]
    },
    {
      "cell_type": "code",
      "metadata": {
        "id": "25o1fCgjhz0d"
      },
      "source": [
        "from newspaper import Article"
      ],
      "execution_count": null,
      "outputs": []
    },
    {
      "cell_type": "code",
      "metadata": {
        "id": "3nbgXev_h6Xn"
      },
      "source": [
        "article1 = []\n",
        "#for i in range(0,len(human_trafficking)):\n",
        "for i in range( 0, 9):\n",
        "  url = df['url'][i]\n",
        "#url=\"https://www.cleveland19.com/2020/10/13/new-york-woman-arrested-summit-county-during-human-trafficking-investigation/\"\n",
        "  article = Article(url)\n",
        "  #article.append(Article(url))\n",
        "  article.download()\n",
        "  article.html\n",
        "  article.parse()\n",
        "  b = article.text\n",
        "  article1.append(b)"
      ],
      "execution_count": null,
      "outputs": []
    },
    {
      "cell_type": "code",
      "metadata": {
        "colab": {
          "base_uri": "https://localhost:8080/"
        },
        "id": "hG4nzenHiakb",
        "outputId": "bd40200b-8a8e-4a01-a4e0-dc1e090d3467"
      },
      "source": [
        "article1"
      ],
      "execution_count": null,
      "outputs": [
        {
          "output_type": "execute_result",
          "data": {
            "text/plain": [
              "['If life were predictable it would cease to be life, and be without flavor.\\n\\nEleanor Roosevelt',\n",
              " '',\n",
              " '“If life were predictable it would cease to be life, and be without flavor.” -Eleanor Roosevelt\\n\\nI don’t know if I agree with this quote. I think life being predictable would be wonderful. I would know when life was going to be hard, and I could just hide away in my room.\\n\\nIf life were predictable, I’d know when I was going to have a good day, I could live life to the fullest. I would know these things. Because I would know how these days were going to be, I would know how to react. How to make the day better, or how to enjoy the day.\\n\\nBut maybe I’m wrong. Maybe no matter what, I wouldn’t make a bad day better. I know what they say. I know the words. I know happiness is a choice. But on dark days, is it really a choice I can make?',\n",
              " 'Eleanor Roosevelt once said, “If life were predictable it would cease to be life, and be without flavor.\" People are tired of all the bullsh*ts of life, we all knew and felt that. The wars around us, be it religious, political or even personal. Unpredictable predicament that people sought for answers and solutions in search for peace and security.\\n\\nDuterte administration was something all Filipinos were looking forward to. We were in thirst for a change. We wanted change for the Philippines and Duterte being the former Mayor of Davao City that is known to be a wild west changed into a relatively prosperous and stable haven in the conflict-ridden island of Mindanao all because him, we were captivated by his\\' supposedly “plan” for our country and by his campaign slogan “Change is coming.”\\n\\nWhile on our journey for change, this global pandemic happened. On 30 January 2020, the Philippine Department of Health reported the first case of COVID-19 in the country with a 38-year-old female Chinese national. As of October 16, 2020, the Philippines has so far recorded 348,698 coronavirus cases with 6,497 deaths recorded. These pandemic made our country more devastated than it is. Duterte administration’s response to Covid-19 brought terror and uncertainty for the lives of Filipinos.\\n\\nPhilippines is at stake. As we seek for peace and security, things get worse. Including the “pasaway” Filipinos. Let’s admit it, we ourselves are also the ones who contribute to as why our country is declining as a whole.\\n\\nDuterte administration won’t make a change all by themselves. We must not depend on our government alone. We need to act out. I give this quote from Israelmore Ayivor to all the Filipinos, “You cannot score a goal when you are sitting on the bench. To do so, you have to dress up and enter the game.”',\n",
              " 'To see what your friends thought of this quote, please sign up!',\n",
              " '11 Beautiful Quotes from Eleanor Roosevelt to Lift You Up Today\\n\\nNeed a little lifting up today? Then ponder some timeless thoughts from Eleanor Roosevelt, a great humanitarian and one of the most inspiring figures the world has ever known.\\n\\nDespite her let downs and disappointments – the loss of both parents during childhood, being raised by a cold and distant grandmother, and an often strained marriage to an immensely popular man – she always rose above the nonsense and created a life of joy and purpose.\\n\\nShe was wise yet approachable, strong but graceful, and by all accounts, one of the loveliest people you could ever meet. Let her eloquent insight into the human spirit empower you today and always….\\n\\nRELATED: 101 Inspiring Success and Happiness Quotes\\n\\n1. “The Future Belongs to Those Who Believe in the Beauty of Their Dreams.”\\n\\nYes, your dreams are beautiful and yes, your dreams can come true, no mater how daring or audacious, as long as you do not allow the naysayers, or society, or your own inner critic, to distract you.\\n\\nYour dreams come from your soul, your life force, they are perfect in formation and utterly worthy of pursuit because they are unique and divinely inspired. No human being ever created success and happiness without them first coming forth in their dreams.\\n\\nIn a misogynist age, Eleanor Roosevelt dreamed of a world where women could influence world events just as much as men, and she became the first U. S. delegate to the United Nations and the first chairperson of the United Nations Commission on Human Rights, just to name a couple of her great accomplishments. (Wikipedia)\\n\\nShe believed in her dreams, in the beauty of them, of why they must come true, and made it happen even though there were those who wished to stop her.\\n\\nYou can do the same with your dreams, whatever they may be.\\n\\n2. “Great Minds Discuss Ideas; Average Minds Discuss Events; Small Minds Discuss People.”\\n\\nDiscussing events and people is merely chatter but when you put words to new ideas and share them with others, you join a universal community of like minded people raising the vibration of the human race.\\n\\nMan, woman, or child, it is human nature to love gossip, which is usually a just subconscious attempt at ignoring our own emotional pain. Yet a significant part of our journey is to overcome the more frivolous instincts we all have in common and to evolve ever closer to the highest ideals of humanity.\\n\\nDiscuss those magnificent ideas you have with like minded people, thereby elevating your own life and the lives of others.\\n\\n3. “No one can make you feel inferior without your consent.”\\n\\nEleanor Roosevelt’s own mother referred to her as homely and she lived with this complex through much of her early years. Then in adulthood, she encountered stupid men who told her husband that he needed to tell her to shut up.\\n\\nBut what Eleanor figured out, as indicated in this famous quote, is that you have complete and total control over how you feel about yourself.\\n\\nYour personal power comes from within, not without. Your source of happiness and self worth come from YOU and nowhere else.\\n\\nAlso realize that when people criticize you, they are really criticizing some part of themselves. If they have time to criticize you, it is because they are so far removed from their own happiness that they are really just making a pitiful attempt to make themselves feel better.\\n\\nThe only way they can make you feel inferior is if you let them.\\n\\nRELATED: How to Stop Comparing Yourself to Others\\n\\n4. “With the new day comes new strength and new thoughts.”\\n\\nYou may finish some days tired, bent, and disgusted. BUT when you lay your head down on that pillow, remind yourself that tomorrow is a new day, another opportunity to start all over again.\\n\\nIt serves you in no useful way to begin the day with the negative thoughts that burdened you yesterday, no matter what challenges you may be facing.\\n\\nIf you begin a new day just not feeling it yet, repeat Eleanor’s words over and over in your head until you feel a positive shift….with the NEW DAY comes NEW STRENGTH and NEW THOUGHTS.\\n\\nFind something, anything, to feel good about because one good thought leads to another good thought just as one bad thought leads to another bad thought. Solutions thrive on good thoughts while problems thrive on bad thoughts.\\n\\n5. “If life were predictable, it would cease to be life and be without flavor.”\\n\\nIf you knew exactly how each moment, day, or week would pan out, how exciting would that be? (Not.)\\n\\nEleanor Roosevelt always rolled with the changes and stayed optimistic no matter what.\\n\\nIt’s doubtful that she expected her parents to die when she was so young, or that her marriage would be less than faithful, or that she would spend 12 long years as a resident of the White House, also known as the loneliest place in the world. Yet these things flavored the greatest events and achievements of her life.\\n\\nLife is an EPIC JOURNEY is it not? We would not appreciate the UPs nearly as much without the challenges we overcame to get there. Enjoy YOUR journey!\\n\\n6. “Beautiful young people are accidents of nature, but beautiful old people are works of art.”\\n\\nEleanor was probably hearkening back to her own youth when she uttered these words. She was told by her culture and people she looked up to that she was not the prettiest girl in town.\\n\\nBut this quote also speaks volumes about how we should all approach aging, common notions of physical beauty, and the natural process of life that affects us all.\\n\\nEven 20-somethings dread the big ‘3-0’; 30-somethings dread the ‘4-0’; and so on. It’s all such utter nonsense how marketing executives love to divide us into categories…and even more nonsense that we buy into it.\\n\\nER’s notion of aging is the best for anyone’s long term happiness: rely on your inner beauty, use age as an opportunity to become more of who you are, always be looking forward and getting better by your own standards.\\n\\nIf you want to be beautiful at any age, embrace and accept where you are at this very moment, emit a vibration of vitality and love of humanity, be patient, kind, and gracious, be unflappable, show that the passing of days only makes you better – that is a true work of art.\\n\\n7. “Friendship with oneself is all-important, because without it, one cannot be friends with anyone else in the world.”\\n\\nWe all need friends in this life. Not only do friends make the good times even better, they help us smooth over the tough times.\\n\\nFriendships are cultivated when people like each other and it so much easier to like someone when they like themselves. When someone doesn’t like himself or herself, they give off unintentional negative energy , pushing away what could be deep, fulfilling friendships.\\n\\nWhat this all rolls around to is self worth and authenticity. You are worthy of real friendship and there are those who would love to be your friend as long as you are authentic to yourself rather than being who you think people want you to be.\\n\\nThere are plenty of people in this world with similar desires and interests as you who would like to be your friend but to attract them you must love and accept yourself. If you don’t like what you see in you, they’re going to think you don’t like what you see in them. Make sense?\\n\\nYou are WORTHY! There’s nothing wrong with you. Be yourself. Love yourself. Go all out and be your authentic, unapologetic self. Got it? Do this is people will come out of the woodwork looking for a friend just like you.\\n\\n8. “Remember always that you not only have the right to be an individual, you have an obligation to be one.”\\n\\nThis quote ties in perfectly with the previous one on friendship but exhorting that you be your true authentic self a little more strongly.\\n\\nLook at nature, there are no two things alike. Even identical twins develop their own distinct personalities. We don’t need another famous celebrity – whoever – whatever – so and so, we’ve already got one of them, we need YOU!\\n\\nNo two pieces in the Cosmic puzzle are the same. When you try to be just like somebody else, you’re screwing up everything!\\n\\nBE you. DO you. Go out there and fulfill your obligation to the Universe and all humanity to be nothing but YOU!\\n\\nRELATED: Top 10 Positive Thinking Podcasts to Fuel Your Forward Motion\\n\\n9. “The giving of love is an education in itself.”\\n\\nGiving love does not always mean you will receive it back, at least not directly or right away. ER learned this the hard way just like the rest of us do.\\n\\nShe gave love to her parents who were not always the best parents. She gave love to FDR, who did indeed love her, but probably not the way she anticipated when they married. She showed love to all humanity and was often criticized for it.\\n\\nBUT, she also knew this: The more you give love, the more you learn how to direct it where it is needed and in what measure. In return, it will flow back to you tenfold from unexpected places at unexpected times.\\n\\n10. “You gain strength, courage, and confidence by every experience in which you really stop to look fear in the face.”\\n\\nER married a political superstar who contracted polio in the prime of his life. He thought his career was over but Eleanor would have none of it.\\n\\nUp until that time, it was inconceivable that anyone with a debilitating physical illness would run for President much less become President. With Eleanor’s help and encouragement, he did it anyway. They did it together.\\n\\nThe two of them came to the White House during one of the most daunting episodes of the 20th century. There was much to fear: a collapse of the United States financial system and a Nazi-Fascist menace in Europe that threatened to pull the entire world into an abyss. Then came Pearl Harbor and WWII.\\n\\nOne by one they faced down each fear, rallied from each disaster, and gained strength from every battle won.\\n\\nThis is a great lesson for life: Face your fear. Face it down! You might not know what the next step will be. You may have no idea how you will conquer this thing you are afraid of but one thing is for sure, to get what you want, you must first face the fear that stands between you and your desire!\\n\\n11. “Do what you feel in your heart to be right, for you’ll be criticized anyway.”\\n\\nDamned if you do, damned if you don’t. So you might as well be damned if you DO.\\n\\nEleanor Roosevelt was criticized for a lot of stuff – for being a woman who wanted to assert herself, for helping people nobody else wanted to help, for challenging people to change their outdated beliefs, for being a goodie-goodie, and so on.\\n\\nAnd surely the criticism hurt at times, but it didn’t stop her. Nor should it you.\\n\\nMake it a point to NOT give a damn what everybody else thinks. Whatever you’re striving for, remember that the only voice that matters is the one inside of you.',\n",
              " '',\n",
              " '',\n",
              " 'If life were predictable it would cease to be life, and be without flavor.\\n\\nQuote by Eleanor Roosevelt\\n\\nClick on the picture ofyou want to see a larger version.']"
            ]
          },
          "metadata": {
            "tags": []
          },
          "execution_count": 118
        }
      ]
    },
    {
      "cell_type": "code",
      "metadata": {
        "id": "PdirE2mtihim"
      },
      "source": [
        ""
      ],
      "execution_count": null,
      "outputs": []
    }
  ]
}